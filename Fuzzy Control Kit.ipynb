{
 "cells": [
  {
   "cell_type": "code",
   "execution_count": 486,
   "metadata": {},
   "outputs": [],
   "source": [
    "import numpy as np\n",
    "from enum import Enum\n",
    "from collections import defaultdict "
   ]
  },
  {
   "cell_type": "code",
   "execution_count": 487,
   "metadata": {},
   "outputs": [],
   "source": [
    "class FuzzySet:\n",
    "\n",
    "#Static Variables\n",
    "    y_trig = (0,1,0)\n",
    "    y_trapz = (0,1,1,0)\n",
    "    Type = Enum('Fuzzy Set Type','trig trapz')\n",
    "\n",
    "    @staticmethod\n",
    "    def pair_cross_diff(multiple,x,y,x_len) :\n",
    "        multiple_diff = 0\n",
    "        for i in range(x_len - 1):\n",
    "            multiple_diff += (multiple[i] + multiple[i + 1]) * (x[i] * y[i + 1] - x[i + 1] * y[i])\n",
    "        return multiple_diff\n",
    "\n",
    "#Instance Variables:\n",
    "#   x, x_len, y, type, ys, centriod\n",
    "    def get_x(self):        return self.x\n",
    "    def get_x_len(self):    return self.x_len\n",
    "    def get_ys(self):       return self.ys\n",
    "\n",
    "    def __init__(self,x):\n",
    "        self.x = x\n",
    "        self.x_len = len(x)\n",
    "        if self.x_len == 3:\n",
    "            self.type = FuzzySet.Type.trig.value\n",
    "        else:\n",
    "            self.type = FuzzySet.Type.trapz.value\n",
    "        self.ys()\n",
    "        self.centriod()\n",
    "        return\n",
    "    \n",
    "    def __str__(self):\n",
    "        return 'Type : %s\\nVertices Number : %s\\nX Vertices : %s\\nY Vertices : %s\\nLine Equations :  %s\\nThere Intervals : %s\\nCentriod : %s' % (self.type, self.x_len, self.x, self.y, self.ys,self.intervals,self.centriod)\n",
    "\n",
    "    def __repr__(self):\n",
    "        return '\\n%s\\n' % (self.__str__())\n",
    "    \n",
    "    def ys(self):\n",
    "        self.ys = []\n",
    "        self.intervals = []\n",
    "        if self.type == FuzzySet.Type.trig.value:\n",
    "            self.y = FuzzySet.y_trig;\n",
    "        else:\n",
    "            self.y = FuzzySet.y_trapz\n",
    "         \n",
    "        for i in range(self.x_len - 1):\n",
    "            if self.x[i] != self.x[i+1]:\n",
    "                m = (self.y[i+1] - self.y[i]) / (self.x[i+1] - self.x[i])\n",
    "                c = self.y[i] - m * self.x[i]\n",
    "                self.ys.append((m, c))\n",
    "                self.intervals.append((self.x[i], self.x[i+1]))\n",
    "                \n",
    "        if len(self.ys) == 0:\n",
    "            self.ys.append((0, 1))\n",
    "            self.intervals.append((self.x[0], self.x[0]))\n",
    "        return\n",
    "    \n",
    "    def centriod(self):\n",
    "        if self.x_len == 3:\n",
    "            self.centriod = (self.x[0] + self.x[1] + self.x[2]) / 3\n",
    "        else:\n",
    "            signed_area = 0.5 * FuzzySet.pair_cross_diff([0.5] * self.x_len,self.x,self.y,self.x_len)\n",
    "            self.centriod = 1 / (6 * signed_area) * FuzzySet.pair_cross_diff(self.x,self.x,self.y,self.x_len)\n",
    "        return\n",
    "\n",
    "    def mu(self,x):\n",
    "        for i in range(len(self.intervals)):\n",
    "            if x >= self.intervals[i][0] and x <= self.intervals[i][1]:\n",
    "                return self.ys[i][0] * x + self.ys[i][1]\n",
    "        return 0\n"
   ]
  },
  {
   "cell_type": "code",
   "execution_count": 488,
   "metadata": {},
   "outputs": [
    {
     "output_type": "stream",
     "name": "stdout",
     "text": [
      "Type : 2\nVertices Number : 4\nX Vertices : (0, 0, 20, 40)\nY Vertices : (0, 1, 1, 0)\nLine Equations :  [(0.0, 1.0), (-0.05, 2.0)]\nThere Intervals : [(0, 20), (20, 40)]\nCentriod : 15.555555555555555\n"
     ]
    }
   ],
   "source": [
    "soft_set = FuzzySet((0,0,20,40))\n",
    "print(soft_set)"
   ]
  },
  {
   "cell_type": "code",
   "execution_count": 489,
   "metadata": {},
   "outputs": [
    {
     "output_type": "stream",
     "name": "stdout",
     "text": [
      "Type : 2\nVertices Number : 4\nX Vertices : (20, 40, 60, 80)\nY Vertices : (0, 1, 1, 0)\nLine Equations :  [(0.05, -1.0), (0.0, 1.0), (-0.05, 4.0)]\nThere Intervals : [(20, 40), (40, 60), (60, 80)]\nCentriod : 50.0\n"
     ]
    }
   ],
   "source": [
    "ordinary_set = FuzzySet((20,40, 60, 80))\n",
    "print(ordinary_set)"
   ]
  },
  {
   "cell_type": "code",
   "execution_count": 490,
   "metadata": {},
   "outputs": [
    {
     "output_type": "stream",
     "name": "stdout",
     "text": [
      "Type : 2\nVertices Number : 4\nX Vertices : (60, 80, 100, 100)\nY Vertices : (0, 1, 1, 0)\nLine Equations :  [(0.05, -3.0), (0.0, 1.0)]\nThere Intervals : [(60, 80), (80, 100)]\nCentriod : 84.44444444444444\n"
     ]
    }
   ],
   "source": [
    "hard_set = FuzzySet((60, 80, 100, 100))\n",
    "print(hard_set)"
   ]
  },
  {
   "cell_type": "code",
   "execution_count": 491,
   "metadata": {},
   "outputs": [],
   "source": [
    "class Variable:\n",
    "\n",
    "    Type = Enum('Variable Type','input output')\n",
    "\n",
    "#Static Variables\n",
    "#Instance Variables:\n",
    "#   sets, crisp_value\n",
    "\n",
    "    def __init__(self):\n",
    "        self.sets = {}\n",
    "        self.crisp_value = None\n",
    "        return\n",
    "    \n",
    "    def __str__(self):\n",
    "        return 'Crisp Value : %s\\nSets :%s' % (self.crisp_value, self.sets)\n",
    "    \n",
    "    def __repr__(self):\n",
    "        return  '\\n%s'% (self.__str__())\n",
    "\n",
    "    def set_crisp(self,x):\n",
    "        self.crisp_value = x\n",
    "        return\n",
    "\n",
    "    def update_set(self,name,x):\n",
    "        self.sets[name] = FuzzySet(x)\n",
    "        return\n",
    "\n",
    "    def get_set_mu(self,name):\n",
    "        return self.sets[name].mu(self.crisp_value)\n",
    "    \n",
    "    def get_set_centriod(self,name):\n",
    "        return self.sets[name].centriod\n",
    "\n",
    "    def get_likelhood_set(self,x):\n",
    "        max_mu = -1\n",
    "        max_set = None \n",
    "        for st in self.sets :\n",
    "            mu = self.sets[st].mu(x)\n",
    "            if mu >= max_mu :\n",
    "                max_mu = mu\n",
    "                max_set = st\n",
    "        return max_set\n",
    "            "
   ]
  },
  {
   "cell_type": "code",
   "execution_count": null,
   "metadata": {},
   "outputs": [],
   "source": [
    "Unit of FUZZIFICATION"
   ]
  },
  {
   "cell_type": "code",
   "execution_count": 492,
   "metadata": {},
   "outputs": [
    {
     "output_type": "stream",
     "name": "stdout",
     "text": [
      "Crisp Value : None\nSets :{'very low': \nType : 2\nVertices Number : 4\nX Vertices : (0, 0, 10, 30)\nY Vertices : (0, 1, 1, 0)\nLine Equations :  [(0.0, 1.0), (-0.05, 1.5)]\nThere Intervals : [(0, 10), (10, 30)]\nCentriod : 10.833333333333334\n, 'low': \nType : 2\nVertices Number : 4\nX Vertices : (10, 30, 40, 60)\nY Vertices : (0, 1, 1, 0)\nLine Equations :  [(0.05, -0.5), (0.0, 1.0), (-0.05, 3.0)]\nThere Intervals : [(10, 30), (30, 40), (40, 60)]\nCentriod : 35.0\n, 'medium': \nType : 2\nVertices Number : 4\nX Vertices : (40, 60, 70, 90)\nY Vertices : (0, 1, 1, 0)\nLine Equations :  [(0.05, -2.0), (0.0, 1.0), (-0.05, 4.5)]\nThere Intervals : [(40, 60), (60, 70), (70, 90)]\nCentriod : 65.0\n, 'high': \nType : 2\nVertices Number : 4\nX Vertices : (70, 90, 100, 100)\nY Vertices : (0, 1, 1, 0)\nLine Equations :  [(0.05, -3.5), (0.0, 1.0)]\nThere Intervals : [(70, 90), (90, 100)]\nCentriod : 89.16666666666667\n}\n"
     ]
    },
    {
     "output_type": "execute_result",
     "data": {
      "text/plain": [
       "0"
      ]
     },
     "metadata": {},
     "execution_count": 492
    }
   ],
   "source": [
    "project_funding = Variable()\n",
    "project_funding.update_set('very low',(0,0,10,30))\n",
    "project_funding.update_set('low',(10,30,40,60))\n",
    "project_funding.update_set('medium',(40,60,70,90))\n",
    "project_funding.update_set('high',(70,90,100,100))\n",
    "print(project_funding)\n",
    "project_funding.set_crisp(50)\n",
    "project_funding.get_set_mu('high')"
   ]
  },
  {
   "cell_type": "code",
   "execution_count": 493,
   "metadata": {},
   "outputs": [
    {
     "output_type": "stream",
     "name": "stdout",
     "text": [
      "beginner intermediate expert beginner\nCrisp Value : None\nSets :{'beginner': \nType : 1\nVertices Number : 3\nX Vertices : (0, 15, 30)\nY Vertices : (0, 1, 0)\nLine Equations :  [(0.06666666666666667, 0.0), (-0.06666666666666667, 2.0)]\nThere Intervals : [(0, 15), (15, 30)]\nCentriod : 15.0\n, 'intermediate': \nType : 1\nVertices Number : 3\nX Vertices : (15, 30, 45)\nY Vertices : (0, 1, 0)\nLine Equations :  [(0.06666666666666667, -1.0), (-0.06666666666666667, 3.0)]\nThere Intervals : [(15, 30), (30, 45)]\nCentriod : 30.0\n, 'expert': \nType : 1\nVertices Number : 3\nX Vertices : (30, 60, 60)\nY Vertices : (0, 1, 0)\nLine Equations :  [(0.03333333333333333, -1.0)]\nThere Intervals : [(30, 60)]\nCentriod : 50.0\n}\n"
     ]
    }
   ],
   "source": [
    "team_experience_level = Variable()\n",
    "team_experience_level.update_set('beginner',(0,15,30))\n",
    "team_experience_level.update_set('intermediate',(15,30,45))\n",
    "team_experience_level.update_set('expert',(30,60,60))\n",
    "print(team_experience_level.get_likelhood_set(15),team_experience_level.get_likelhood_set(30),team_experience_level.get_likelhood_set(60),team_experience_level.get_likelhood_set(22))\n",
    "print(team_experience_level)"
   ]
  },
  {
   "cell_type": "code",
   "execution_count": 494,
   "metadata": {},
   "outputs": [
    {
     "output_type": "stream",
     "name": "stdout",
     "text": [
      "Crisp Value : None\nSets :{'low': \nType : 1\nVertices Number : 3\nX Vertices : (0, 25, 50)\nY Vertices : (0, 1, 0)\nLine Equations :  [(0.04, 0.0), (-0.04, 2.0)]\nThere Intervals : [(0, 25), (25, 50)]\nCentriod : 25.0\n, 'normal': \nType : 1\nVertices Number : 3\nX Vertices : (25, 50, 75)\nY Vertices : (0, 1, 0)\nLine Equations :  [(0.04, -1.0), (-0.04, 3.0)]\nThere Intervals : [(25, 50), (50, 75)]\nCentriod : 50.0\n, 'high': \nType : 1\nVertices Number : 3\nX Vertices : (50, 100, 100)\nY Vertices : (0, 1, 0)\nLine Equations :  [(0.02, -1.0)]\nThere Intervals : [(50, 100)]\nCentriod : 83.33333333333333\n}\n"
     ]
    }
   ],
   "source": [
    "risk = Variable()\n",
    "risk.update_set('low',(0,25,50))\n",
    "risk.update_set('normal',(25,50,75))\n",
    "risk.update_set('high',(50,100,100))\n",
    "print(risk)"
   ]
  },
  {
   "cell_type": "code",
   "execution_count": 495,
   "metadata": {},
   "outputs": [],
   "source": [
    "class Rule:\n",
    "    \n",
    "    @staticmethod\n",
    "    def NOT(mu)      : return 1 - mu\n",
    "    @staticmethod\n",
    "    def OR(mu1,mu2)  : return max(mu1,mu2)\n",
    "    @staticmethod\n",
    "    def AND(mu1,mu2) : return min(mu1,mu2)\n",
    "    @staticmethod\n",
    "    def get_arg(arg) : return tuple(arg.split('='))\n",
    "    @staticmethod\n",
    "    def append_oprands(expr,and_oprand):\n",
    "        for i in range(-1, -len(and_oprand)-1, -1) :\n",
    "            if  and_oprand[i] !=  '^' :\n",
    "                expr.append(Rule.get_arg(and_oprand[i]))\n",
    "            else :\n",
    "                expr.append(and_oprand[i])\n",
    "\n",
    "#Instance Variables:\n",
    "#   stmt, out_var, args, expr\n",
    "\n",
    "    def __init__(self,stmt):\n",
    "        self.stmt = stmt\n",
    "        self.args = defaultdict(list)\n",
    "        self.expr = []\n",
    "        self.parse()\n",
    "        return\n",
    "    \n",
    "    def __str__(self):\n",
    "        return 'Statement : %s\\nOutput Variable : %s\\nArguments : %s\\nExpression : %s' % (self.stmt, self.out_var, self.args, self.expr)\n",
    "    \n",
    "    def __repr__(self):\n",
    "        return '\\n%s\\n' % (self.__str__())\n",
    "\n",
    "    def ands_expr(self,axioms):\n",
    "        and_oprand = []\n",
    "        while axioms :\n",
    "            axiom = axioms.pop()\n",
    "            if axiom == '&' :\n",
    "                self.expr.append(axiom)\n",
    "                Rule.append_oprands(self.expr,and_oprand)\n",
    "                and_oprand.clear()\n",
    "            else :\n",
    "                and_oprand.append(axiom)\n",
    "                #put output Variables in the rule arguments\n",
    "                if axiom != '^' :\n",
    "                    arg = Rule.get_arg(axiom)\n",
    "                    self.args[arg[0]].append(arg[1])\n",
    "        Rule.append_oprands(self.expr,and_oprand)\n",
    "        return\n",
    "\n",
    "    def or_expr(self,axioms):\n",
    "        or_oprand = []\n",
    "        while axioms :\n",
    "            axiom = axioms.pop()\n",
    "            if axiom == '|' :\n",
    "                self.expr.append(axiom)\n",
    "                self.ands_expr(or_oprand)\n",
    "                or_oprand.clear()\n",
    "            else :\n",
    "                or_oprand.insert(0,axiom)\n",
    "        self.ands_expr(or_oprand)\n",
    "        return\n",
    "\n",
    "    def parse(self):\n",
    "        axioms = self.stmt.split(' ')\n",
    "        self.out_var = Rule.get_arg(axioms.pop())\n",
    "        #pop the (->)\n",
    "        axioms.pop()   \n",
    "        #Put The Whole Expression\n",
    "        self.or_expr(axioms)\n",
    "        return\n",
    "    \n",
    "    def evaluate(self,mus):\n",
    "        expr = self.expr.copy() \n",
    "        mu2 = None\n",
    "        while expr:\n",
    "            axiom = expr.pop()\n",
    "            if axiom == '^' :\n",
    "                mu2 = Rule.NOT(mu2)\n",
    "            elif axiom == '&' :\n",
    "                mu2 = Rule.AND(mu1,mu2)\n",
    "            elif axiom == '|' :\n",
    "                mu2 = Rule.OR(mu1,mu2)\n",
    "            else :\n",
    "                mu1 = mu2\n",
    "                mu2 = mus[axiom]\n",
    "        return self.out_var , mu2\n",
    "    "
   ]
  },
  {
   "cell_type": "code",
   "execution_count": null,
   "metadata": {},
   "outputs": [],
   "source": [
    "Unit of INFERENCING"
   ]
  },
  {
   "cell_type": "code",
   "execution_count": 509,
   "metadata": {},
   "outputs": [
    {
     "output_type": "stream",
     "name": "stdout",
     "text": [
      "[\nStatement : x=a & x=b | y=c & y=d | z=e & z=f & z=g -> m=n\nOutput Variable : ('m', 'n')\nArguments : defaultdict(<class 'list'>, {'z': ['g', 'f', 'e'], 'y': ['d', 'c'], 'x': ['b', 'a']})\nExpression : ['|', '&', ('z', 'g'), '&', ('z', 'f'), ('z', 'e'), '|', '&', ('y', 'd'), ('y', 'c'), '&', ('x', 'b'), ('x', 'a')]\n, \nStatement : x=a & ^ x=b | y=c & y=d | z=e & ^ z=f & z=g -> m=n\nOutput Variable : ('m', 'n')\nArguments : defaultdict(<class 'list'>, {'z': ['g', 'f', 'e'], 'y': ['d', 'c'], 'x': ['b', 'a']})\nExpression : ['|', '&', ('z', 'g'), '&', '^', ('z', 'f'), ('z', 'e'), '|', '&', ('y', 'd'), ('y', 'c'), '&', '^', ('x', 'b'), ('x', 'a')]\n]\n(('m', 'n'), 0.1)\n(('m', 'n'), 0.2)\n"
     ]
    }
   ],
   "source": [
    "mus = {\n",
    "        ('z','g') : 0.75, ('z','f') : 0.3, ('z','e') : 0.1,\n",
    "        ('y','d') : 0.5, ('y','c') : 0.2,\n",
    "        ('x','b') : 0.2, ('x','a') : 0.1\n",
    "      }\n",
    "mus3 = {\n",
    "        ('x','b') : 0.2, ('x','a') : 0.1, ('x','c') : 0.3\n",
    "       }\n",
    "r1 = Rule('x=a & x=b | y=c & y=d | z=e & z=f & z=g -> m=n')\n",
    "r2 = Rule('x=a & ^ x=b | y=c & y=d | z=e & ^ z=f & z=g -> m=n')\n",
    "r3 = Rule('x=c & x=b | x=a -> m=n')\n",
    "print([r1,r2])\n",
    "print(r1.evaluate(mus))\n",
    "print(r3.evaluate(mus3))\n"
   ]
  },
  {
   "cell_type": "code",
   "execution_count": 510,
   "metadata": {},
   "outputs": [],
   "source": [
    "class FuzzyControlKit:\n",
    "\n",
    "#Instance Variables:\n",
    "#   prev_var, prev_type, in_vars, out_vars, rules \n",
    "\n",
    "    def __init__(self):\n",
    "        self.prev_var  = None\n",
    "        self.prev_type = None\n",
    "        self.in_vars = {}\n",
    "        self.out_vars = {}\n",
    "        self.rules = []\n",
    "        return\n",
    "    \n",
    "    def __str__(self):\n",
    "        return 'Name of Last Variable Added : %s\\nType of Last Variable Added : %s\\nInput Variables :\\n%s\\nOutput Variables :\\n%s\\nRules :\\n%s' % (self.prev_var, self.prev_type, self.in_vars, self.out_vars, self.rules)\n",
    "    \n",
    "    def __repr__(self):\n",
    "        return self.__str__()\n",
    "\n",
    "    def add_var(self,name,type):\n",
    "        self.prev_var  = name\n",
    "        self.prev_type = type\n",
    "        if type.value == Variable.Type.input.value :\n",
    "            self.in_vars[name]  = Variable()  \n",
    "        else :\n",
    "            self.out_vars[name] = Variable()\n",
    "        return\n",
    "        \n",
    "    def set_var_set(self,name,x):\n",
    "        if self.prev_type.value == Variable.Type.input.value :\n",
    "            self.in_vars[self.prev_var].update_set(name,x)\n",
    "        else :\n",
    "            self.out_vars[self.prev_var].update_set(name,x)\n",
    "        return\n",
    "    \n",
    "    def set_var_crisp(self,name,x):\n",
    "        self.in_vars[name].set_crisp(x)\n",
    "        return\n",
    "    \n",
    "    def add_rule(self,rule):\n",
    "        self.rules.append(Rule(rule))\n",
    "        return\n",
    "\n",
    "    def input_fuzzification(self):\n",
    "        print('Input Variables\\' Sets Fuzzification Result :')\n",
    "        for var in self.in_vars :\n",
    "            print(var,':')\n",
    "            print(self.in_vars[var],'\\n')\n",
    "        return\n",
    "\n",
    "    def get_args_mus(self,args):\n",
    "        args_mus = {}\n",
    "        for var in args :\n",
    "            for st in args[var] :\n",
    "                args_mus[(var,st)] = self.in_vars[var].get_set_mu(st)\n",
    "        return args_mus\n",
    "\n",
    "    def inference(self):\n",
    "        out_var_set_mus = {}\n",
    "        for rule in self.rules :\n",
    "            args_mus = self.get_args_mus(rule.args)\n",
    "            print(args_mus)\n",
    "            var_set_of_currmu , mu = rule.evaluate(args_mus)\n",
    "            if var_set_of_currmu[0] not in out_var_set_mus :\n",
    "                out_var_set_mus[var_set_of_currmu[0]] = defaultdict(lambda: -1)\n",
    "            out_var_set_mus[var_set_of_currmu[0]][var_set_of_currmu[1]] = Rule.OR(mu,              out_var_set_mus[var_set_of_currmu[0]][var_set_of_currmu[1]])\n",
    "        print(out_var_set_mus)\n",
    "        return out_var_set_mus\n",
    "    \n",
    "    #Weighted Average\n",
    "    def output_defuzzification(self,out_var_set_mus):\n",
    "        out_var_values = []\n",
    "        for var in out_var_set_mus :\n",
    "            numrtr = 0\n",
    "            dnmrtr = 0\n",
    "            for var_set in out_var_set_mus[var] :\n",
    "                numrtr += self.out_vars[var].get_set_centriod(var_set) * out_var_set_mus[var][var_set]\n",
    "                dnmrtr += out_var_set_mus[var][var_set]\n",
    "                z = numrtr / dnmrtr\n",
    "            out_var_values.append((var, z, self.out_vars[var].get_likelhood_set(z)))\n",
    "        return out_var_values\n",
    "\n",
    "    "
   ]
  },
  {
   "cell_type": "code",
   "execution_count": 517,
   "metadata": {},
   "outputs": [],
   "source": [
    "kit = FuzzyControlKit()\n",
    "kit.add_var('Project_Funding',Variable.Type.input)\n",
    "kit.set_var_set('vl',(0,0,10,30))\n",
    "kit.set_var_set('l',(10,30,40,60))\n",
    "kit.set_var_set('m',(40,60,70,90))\n",
    "kit.set_var_set('h',(70,90,100,100))"
   ]
  },
  {
   "cell_type": "code",
   "execution_count": 518,
   "metadata": {},
   "outputs": [],
   "source": [
    "kit.add_var('Team_Experience_Level',Variable.Type.input)\n",
    "kit.set_var_set('b',(0,15,30))\n",
    "kit.set_var_set('i',(15,30,45))\n",
    "kit.set_var_set('e',(30,60,60))"
   ]
  },
  {
   "cell_type": "code",
   "execution_count": 519,
   "metadata": {},
   "outputs": [],
   "source": [
    "kit.add_var('Risk',Variable.Type.output)\n",
    "kit.set_var_set('l',(0,25,50))\n",
    "kit.set_var_set('n',(25,50,75))\n",
    "kit.set_var_set('h',(50,100,100))"
   ]
  },
  {
   "cell_type": "code",
   "execution_count": 520,
   "metadata": {},
   "outputs": [],
   "source": [
    "kit.add_rule('Project_Funding=h | Team_Experience_Level=e -> Risk=l')\n",
    "kit.add_rule('Project_Funding=m & Team_Experience_Level=i | Team_Experience_Level=b -> Risk=n')\n",
    "kit.add_rule('Project_Funding=l -> Risk=h')\n",
    "kit.add_rule('Project_Funding=l & Team_Experience_Level=b -> Risk=h')"
   ]
  },
  {
   "cell_type": "code",
   "execution_count": 521,
   "metadata": {},
   "outputs": [
    {
     "output_type": "stream",
     "name": "stdout",
     "text": [
      "Input Variables' Sets Fuzzification Result :\nProject_Funding :\nCrisp Value : 50\nSets :{'vl': \nType : 2\nVertices Number : 4\nX Vertices : (0, 0, 10, 30)\nY Vertices : (0, 1, 1, 0)\nLine Equations :  [(0.0, 1.0), (-0.05, 1.5)]\nThere Intervals : [(0, 10), (10, 30)]\nCentriod : 10.833333333333334\n, 'l': \nType : 2\nVertices Number : 4\nX Vertices : (10, 30, 40, 60)\nY Vertices : (0, 1, 1, 0)\nLine Equations :  [(0.05, -0.5), (0.0, 1.0), (-0.05, 3.0)]\nThere Intervals : [(10, 30), (30, 40), (40, 60)]\nCentriod : 35.0\n, 'm': \nType : 2\nVertices Number : 4\nX Vertices : (40, 60, 70, 90)\nY Vertices : (0, 1, 1, 0)\nLine Equations :  [(0.05, -2.0), (0.0, 1.0), (-0.05, 4.5)]\nThere Intervals : [(40, 60), (60, 70), (70, 90)]\nCentriod : 65.0\n, 'h': \nType : 2\nVertices Number : 4\nX Vertices : (70, 90, 100, 100)\nY Vertices : (0, 1, 1, 0)\nLine Equations :  [(0.05, -3.5), (0.0, 1.0)]\nThere Intervals : [(70, 90), (90, 100)]\nCentriod : 89.16666666666667\n} \n\nTeam_Experience_Level :\nCrisp Value : 40\nSets :{'b': \nType : 1\nVertices Number : 3\nX Vertices : (0, 15, 30)\nY Vertices : (0, 1, 0)\nLine Equations :  [(0.06666666666666667, 0.0), (-0.06666666666666667, 2.0)]\nThere Intervals : [(0, 15), (15, 30)]\nCentriod : 15.0\n, 'i': \nType : 1\nVertices Number : 3\nX Vertices : (15, 30, 45)\nY Vertices : (0, 1, 0)\nLine Equations :  [(0.06666666666666667, -1.0), (-0.06666666666666667, 3.0)]\nThere Intervals : [(15, 30), (30, 45)]\nCentriod : 30.0\n, 'e': \nType : 1\nVertices Number : 3\nX Vertices : (30, 60, 60)\nY Vertices : (0, 1, 0)\nLine Equations :  [(0.03333333333333333, -1.0)]\nThere Intervals : [(30, 60)]\nCentriod : 50.0\n} \n\n{('Team_Experience_Level', 'e'): 0.33333333333333326, ('Project_Funding', 'h'): 0}\n{('Team_Experience_Level', 'b'): 0, ('Team_Experience_Level', 'i'): 0.3333333333333335, ('Project_Funding', 'm'): 0.5}\n{('Project_Funding', 'l'): 0.5}\n{('Team_Experience_Level', 'b'): 0, ('Project_Funding', 'l'): 0.5}\n{'Risk': defaultdict(<function FuzzyControlKit.inference.<locals>.<lambda> at 0x000000000948AC10>, {'l': 0.33333333333333326, 'n': 0.3333333333333335, 'h': 0.5})}\n"
     ]
    },
    {
     "output_type": "error",
     "ename": "KeyError",
     "evalue": "'l'",
     "traceback": [
      "\u001b[1;31m---------------------------------------------------------------------------\u001b[0m",
      "\u001b[1;31mKeyError\u001b[0m                                  Traceback (most recent call last)",
      "\u001b[1;32m<ipython-input-521-61c40ea9b6b9>\u001b[0m in \u001b[0;36m<module>\u001b[1;34m\u001b[0m\n\u001b[0;32m      3\u001b[0m \u001b[0mkit\u001b[0m\u001b[1;33m.\u001b[0m\u001b[0minput_fuzzification\u001b[0m\u001b[1;33m(\u001b[0m\u001b[1;33m)\u001b[0m\u001b[1;33m\u001b[0m\u001b[1;33m\u001b[0m\u001b[0m\n\u001b[0;32m      4\u001b[0m \u001b[0mout_var_set_mus\u001b[0m \u001b[1;33m=\u001b[0m \u001b[0mkit\u001b[0m\u001b[1;33m.\u001b[0m\u001b[0minference\u001b[0m\u001b[1;33m(\u001b[0m\u001b[1;33m)\u001b[0m\u001b[1;33m\u001b[0m\u001b[1;33m\u001b[0m\u001b[0m\n\u001b[1;32m----> 5\u001b[1;33m \u001b[0mkit\u001b[0m\u001b[1;33m.\u001b[0m\u001b[0moutput_defuzzification\u001b[0m\u001b[1;33m(\u001b[0m\u001b[0mout_var_set_mus\u001b[0m\u001b[1;33m)\u001b[0m\u001b[1;33m\u001b[0m\u001b[1;33m\u001b[0m\u001b[0m\n\u001b[0m",
      "\u001b[1;32m<ipython-input-510-e6c544da324f>\u001b[0m in \u001b[0;36moutput_defuzzification\u001b[1;34m(self, out_var_set_mus)\u001b[0m\n\u001b[0;32m     75\u001b[0m             \u001b[0mdnmrtr\u001b[0m \u001b[1;33m=\u001b[0m \u001b[1;36m0\u001b[0m\u001b[1;33m\u001b[0m\u001b[1;33m\u001b[0m\u001b[0m\n\u001b[0;32m     76\u001b[0m             \u001b[1;32mfor\u001b[0m \u001b[0mvar_set\u001b[0m \u001b[1;32min\u001b[0m \u001b[0mout_var_set_mus\u001b[0m\u001b[1;33m[\u001b[0m\u001b[0mvar\u001b[0m\u001b[1;33m]\u001b[0m \u001b[1;33m:\u001b[0m\u001b[1;33m\u001b[0m\u001b[1;33m\u001b[0m\u001b[0m\n\u001b[1;32m---> 77\u001b[1;33m                 \u001b[0mnumrtr\u001b[0m \u001b[1;33m+=\u001b[0m \u001b[0mself\u001b[0m\u001b[1;33m.\u001b[0m\u001b[0mout_vars\u001b[0m\u001b[1;33m[\u001b[0m\u001b[0mvar\u001b[0m\u001b[1;33m]\u001b[0m\u001b[1;33m.\u001b[0m\u001b[0mget_set_centriod\u001b[0m\u001b[1;33m(\u001b[0m\u001b[0mvar_set\u001b[0m\u001b[1;33m)\u001b[0m \u001b[1;33m*\u001b[0m \u001b[0mout_var_set_mus\u001b[0m\u001b[1;33m[\u001b[0m\u001b[0mvar\u001b[0m\u001b[1;33m]\u001b[0m\u001b[1;33m[\u001b[0m\u001b[0mvar_set\u001b[0m\u001b[1;33m]\u001b[0m\u001b[1;33m\u001b[0m\u001b[1;33m\u001b[0m\u001b[0m\n\u001b[0m\u001b[0;32m     78\u001b[0m                 \u001b[0mdnmrtr\u001b[0m \u001b[1;33m+=\u001b[0m \u001b[0mout_var_set_mus\u001b[0m\u001b[1;33m[\u001b[0m\u001b[0mvar\u001b[0m\u001b[1;33m]\u001b[0m\u001b[1;33m[\u001b[0m\u001b[0mvar_set\u001b[0m\u001b[1;33m]\u001b[0m\u001b[1;33m\u001b[0m\u001b[1;33m\u001b[0m\u001b[0m\n\u001b[0;32m     79\u001b[0m                 \u001b[0mz\u001b[0m \u001b[1;33m=\u001b[0m \u001b[0mnumrtr\u001b[0m \u001b[1;33m/\u001b[0m \u001b[0mdnmrtr\u001b[0m\u001b[1;33m\u001b[0m\u001b[1;33m\u001b[0m\u001b[0m\n",
      "\u001b[1;32m<ipython-input-491-e3f087302f53>\u001b[0m in \u001b[0;36mget_set_centriod\u001b[1;34m(self, name)\u001b[0m\n\u001b[0;32m     30\u001b[0m \u001b[1;33m\u001b[0m\u001b[0m\n\u001b[0;32m     31\u001b[0m     \u001b[1;32mdef\u001b[0m \u001b[0mget_set_centriod\u001b[0m\u001b[1;33m(\u001b[0m\u001b[0mself\u001b[0m\u001b[1;33m,\u001b[0m\u001b[0mname\u001b[0m\u001b[1;33m)\u001b[0m\u001b[1;33m:\u001b[0m\u001b[1;33m\u001b[0m\u001b[1;33m\u001b[0m\u001b[0m\n\u001b[1;32m---> 32\u001b[1;33m         \u001b[1;32mreturn\u001b[0m \u001b[0mself\u001b[0m\u001b[1;33m.\u001b[0m\u001b[0msets\u001b[0m\u001b[1;33m[\u001b[0m\u001b[0mname\u001b[0m\u001b[1;33m]\u001b[0m\u001b[1;33m.\u001b[0m\u001b[0mcentriod\u001b[0m\u001b[1;33m\u001b[0m\u001b[1;33m\u001b[0m\u001b[0m\n\u001b[0m\u001b[0;32m     33\u001b[0m \u001b[1;33m\u001b[0m\u001b[0m\n\u001b[0;32m     34\u001b[0m     \u001b[1;32mdef\u001b[0m \u001b[0mget_likelhood_set\u001b[0m\u001b[1;33m(\u001b[0m\u001b[0mself\u001b[0m\u001b[1;33m,\u001b[0m\u001b[0mx\u001b[0m\u001b[1;33m)\u001b[0m\u001b[1;33m:\u001b[0m\u001b[1;33m\u001b[0m\u001b[1;33m\u001b[0m\u001b[0m\n",
      "\u001b[1;31mKeyError\u001b[0m: 'l'"
     ]
    }
   ],
   "source": [
    "kit.set_var_crisp('Project_Funding',50)\n",
    "kit.set_var_crisp('Team_Experience_Level',40)\n",
    "kit.input_fuzzification()\n",
    "out_var_set_mus = kit.inference()\n",
    "kit.output_defuzzification(out_var_set_mus)"
   ]
  },
  {
   "cell_type": "code",
   "execution_count": null,
   "metadata": {},
   "outputs": [],
   "source": []
  },
  {
   "cell_type": "code",
   "execution_count": null,
   "metadata": {},
   "outputs": [],
   "source": []
  },
  {
   "cell_type": "code",
   "execution_count": null,
   "metadata": {},
   "outputs": [],
   "source": [
    "out_var_set_vals = {}\n",
    "out_var_set_vals['k'] = defaultdict(lambda: -1)\n",
    "out_var_set_vals['k']['l'] = 5\n",
    "if 'c' not in out_var_set_vals :\n",
    "    out_var_set_vals['c'] = defaultdict(lambda: -1)\n",
    "out_var_set_vals['c']['n'] = 20\n",
    "out_var_set_vals\n"
   ]
  }
 ],
 "metadata": {
  "kernelspec": {
   "display_name": "Python 3",
   "language": "python",
   "name": "python3"
  },
  "language_info": {
   "codemirror_mode": {
    "name": "ipython",
    "version": 3
   },
   "file_extension": ".py",
   "mimetype": "text/x-python",
   "name": "python",
   "nbconvert_exporter": "python",
   "pygments_lexer": "ipython3",
   "version": "3.8.5-final"
  }
 },
 "nbformat": 4,
 "nbformat_minor": 4
}